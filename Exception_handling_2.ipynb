{
 "cells": [
  {
   "cell_type": "markdown",
   "id": "bf0ebf5a-1e85-4543-b2c2-686a799840f7",
   "metadata": {},
   "source": [
    "Q1. Explain why we have to use the Exception class while creating a Custom Exception.\n",
    "\n"
   ]
  },
  {
   "cell_type": "markdown",
   "id": "6e30394e-c0b5-489c-ac7b-c143b20caddd",
   "metadata": {},
   "source": [
    "The Exception class in Python serves as the base class for all exceptions. When creating custom exceptions, it's essential to inherit from the Exception class to ensure that the custom exception inherits all the necessary behaviors and attributes of standard exceptions. This allows the custom exception to be caught in a broader range of exception handling blocks, as it is a part of the general exception hierarchy."
   ]
  },
  {
   "cell_type": "markdown",
   "id": "f47b3eac-0f66-4052-ba39-5223de148920",
   "metadata": {},
   "source": [
    "Q2. Write a Python program to print Python Exception Hierarchy."
   ]
  },
  {
   "cell_type": "code",
   "execution_count": null,
   "id": "b72e6884-aa5a-4ef4-8bec-371fd13e7d2c",
   "metadata": {},
   "outputs": [],
   "source": [
    "import logging\n",
    "\n",
    "logging.basicConfig(level=logging.DEBUG)\n",
    "\n",
    "# Python program to print Python Exception Hierarchy\n",
    "for i in dir(__builtins__):\n",
    "    if \"Error\" in i:\n",
    "        logging.info(i)\n"
   ]
  },
  {
   "cell_type": "markdown",
   "id": "44b2d42a-f510-4bc6-93b1-0878f3cbc263",
   "metadata": {},
   "source": [
    "Q3. What errors are defined in the ArithmeticError class? Explain any two with an example."
   ]
  },
  {
   "cell_type": "code",
   "execution_count": 1,
   "id": "83c495af-6cc6-4d4c-85d3-28e6495883ad",
   "metadata": {},
   "outputs": [
    {
     "name": "stderr",
     "output_type": "stream",
     "text": [
      "ERROR:root:Exception occurred: division by zero\n"
     ]
    }
   ],
   "source": [
    "\"\"\"\n",
    "The ArithmeticError class in Python represents errors that occur during numerical computations. Two errors defined in the ArithmeticError class are:\n",
    "\"\"\"\n",
    "#ZeroDivisionError\n",
    "#                 This error occurs when attempting to divide a number by zero.\n",
    "\n",
    "import logging\n",
    "\n",
    "logging.basicConfig(level=logging.DEBUG)\n",
    "\n",
    "try:\n",
    "    result = 1 / 0\n",
    "except ZeroDivisionError as e:\n",
    "    logging.error(\"Exception occurred: {}\".format(e))\n"
   ]
  },
  {
   "cell_type": "code",
   "execution_count": 2,
   "id": "7b187bea-2bd1-4c3e-8266-ec118347a496",
   "metadata": {},
   "outputs": [
    {
     "name": "stderr",
     "output_type": "stream",
     "text": [
      "ERROR:root:Exception occurred: math range error\n"
     ]
    }
   ],
   "source": [
    "\"\"\"\n",
    "OverflowError: \n",
    "             This error occurs when the result of an arithmetic operation is too large to be represented.\n",
    "\"\"\"\n",
    "import logging\n",
    "\n",
    "logging.basicConfig(level=logging.DEBUG)\n",
    "\n",
    "try:\n",
    "    import math\n",
    "    result = math.exp(1000)\n",
    "except OverflowError as e:\n",
    "    logging.error(\"Exception occurred: {}\".format(e))"
   ]
  },
  {
   "cell_type": "markdown",
   "id": "5e70d95c-e07b-4ef0-a932-fb08027c88af",
   "metadata": {},
   "source": [
    "Q4. Why is the LookupError class used? Explain with an example KeyError and IndexError.\n",
    "\n"
   ]
  },
  {
   "cell_type": "code",
   "execution_count": 4,
   "id": "de9e8de3-c962-4885-9d4a-ca5db9920a57",
   "metadata": {},
   "outputs": [
    {
     "name": "stderr",
     "output_type": "stream",
     "text": [
      "ERROR:root:Exception occurred: 'c'\n"
     ]
    }
   ],
   "source": [
    "\"\"\"\n",
    "The LookupError class in Python is a base class for all lookup errors. It is used to handle errors that occur when a key or index is not found in a dictionary or sequence.\n",
    "Two common errors that are subclasses of LookupError are:\n",
    "\"\"\"\n",
    "#KeyError: This error occurs when a key is not found in a dictionary.\n",
    "\n",
    "\n",
    "import logging\n",
    "\n",
    "logging.basicConfig(level=logging.DEBUG)\n",
    "\n",
    "try:\n",
    "    my_dict = {'a': 1, 'b': 2}\n",
    "    value = my_dict['c']\n",
    "except KeyError as e:\n",
    "    logging.error(\"Exception occurred: {}\".format(e))\n",
    "    \n"
   ]
  },
  {
   "cell_type": "code",
   "execution_count": 3,
   "id": "42707ab4-2d9b-4c0a-83b5-d59656f30fbc",
   "metadata": {},
   "outputs": [
    {
     "name": "stderr",
     "output_type": "stream",
     "text": [
      "ERROR:root:Exception occurred: list index out of range\n"
     ]
    }
   ],
   "source": [
    "\"\"\"\n",
    "IndexError: \n",
    "          This error occurs when attempting to access an index that is out of range in a sequence.\n",
    "\n",
    "\"\"\"\n",
    "import logging\n",
    "\n",
    "logging.basicConfig(level=logging.DEBUG)\n",
    "\n",
    "try:\n",
    "    my_list = [1, 2, 3]\n",
    "    value = my_list[3]\n",
    "except IndexError as e:\n",
    "    logging.error(\"Exception occurred: {}\".format(e))"
   ]
  },
  {
   "cell_type": "markdown",
   "id": "7ddc0669-7708-427b-a8fa-efaca43eb89d",
   "metadata": {},
   "source": [
    "Q5. Explain ImportError. What is ModuleNotFoundError?\n"
   ]
  },
  {
   "cell_type": "markdown",
   "id": "a62be7c7-5c2f-4671-9ccf-5e69c9b142a5",
   "metadata": {},
   "source": [
    "ImportError: \n",
    "           This error occurs when a module could not be imported.\n",
    "\n",
    "ModuleNotFoundError: \n",
    "                   This error is a subclass of ImportError and is raised when a module could not be found."
   ]
  },
  {
   "cell_type": "markdown",
   "id": "24157f65-c170-44fc-949d-7548388c91c5",
   "metadata": {},
   "source": [
    "Q6. List down some best practices for exception handling in Python.\n"
   ]
  },
  {
   "cell_type": "markdown",
   "id": "37a8624f-76b5-4947-ba45-6008ade0e6f7",
   "metadata": {},
   "source": [
    "1. Be specific in catching exceptions rather than using a broad except block.\n",
    "2. Always include informative error messages to aid in debugging.\n",
    "3. Use the finally block to release external resources.\n",
    "4. Avoid using bare except unless necessary."
   ]
  },
  {
   "cell_type": "code",
   "execution_count": null,
   "id": "9fc2b00a-b12d-4ae7-b7c2-8cd010e2552b",
   "metadata": {},
   "outputs": [],
   "source": []
  }
 ],
 "metadata": {
  "kernelspec": {
   "display_name": "Python 3 (ipykernel)",
   "language": "python",
   "name": "python3"
  },
  "language_info": {
   "codemirror_mode": {
    "name": "ipython",
    "version": 3
   },
   "file_extension": ".py",
   "mimetype": "text/x-python",
   "name": "python",
   "nbconvert_exporter": "python",
   "pygments_lexer": "ipython3",
   "version": "3.10.8"
  }
 },
 "nbformat": 4,
 "nbformat_minor": 5
}
